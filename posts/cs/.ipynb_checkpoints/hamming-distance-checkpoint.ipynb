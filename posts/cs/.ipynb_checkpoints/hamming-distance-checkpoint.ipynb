{
 "cells": [
  {
   "cell_type": "markdown",
   "metadata": {},
   "source": [
    "# Hamming distance\n",
    "\n",
    "The Hamming distance is named after the late American mathematician [Richard Hamming](https://en.wikipedia.org/wiki/Richard_Hamming \"Richard Hamming's Wikipedia Entry\"). Given two sequences of equal length, the Hamming distance measures the minimum number of symbols that must be substituted to transform one string into the other. As such, the Hamming distance is a measure of similarity, or more formally, a measure of the [edit distance](https://en.wikipedia.org/wiki/Edit_distance \"Edit distance Wikipedia entry\") between two sequences.\n",
    "\n",
    "Given two zero indexed sequences $a$ and $b$ of length $3$:"
   ]
  },
  {
   "cell_type": "code",
   "execution_count": 1,
   "metadata": {},
   "outputs": [],
   "source": [
    "a = [1, 0, 1]\n",
    "b = [1, 0, 0]"
   ]
  },
  {
   "cell_type": "markdown",
   "metadata": {},
   "source": [
    "We can see intuitively see that to transform $b$ into $a$ we must substitute $b_{2}$ with the symbol $1$. Likewise, to transform $a$ into $b$ we must substitute $a_{2}$ with the symbol $0$. It follows, that the Hamming distance $hamming(a, b)$ is $1$, as this is the minimum number of substitutions to transform $a$ into $b$ or $b$ into $a$.\n",
    "\n",
    "It is trivial to implement a Hamming distance function in code:"
   ]
  },
  {
   "cell_type": "code",
   "execution_count": 2,
   "metadata": {},
   "outputs": [],
   "source": [
    "def hamming(a, b):\n",
    "    assert len(a) == len(b), \"Undefined for iterables of different length.\"\n",
    "    return sum([i != j for i, j in zip(a, b)])"
   ]
  },
  {
   "cell_type": "code",
   "execution_count": 3,
   "metadata": {},
   "outputs": [
    {
     "data": {
      "text/plain": [
       "1"
      ]
     },
     "execution_count": 3,
     "metadata": {},
     "output_type": "execute_result"
    }
   ],
   "source": [
    "hamming(a, b) "
   ]
  },
  {
   "cell_type": "markdown",
   "metadata": {},
   "source": [
    "Of course attempting to calculate the Hamming distance of $a$ and a new sequence $c$ having length $2$ results in an exception:"
   ]
  },
  {
   "cell_type": "code",
   "execution_count": 4,
   "metadata": {
    "scrolled": true
   },
   "outputs": [],
   "source": [
    "c = [0, 1]"
   ]
  },
  {
   "cell_type": "code",
   "execution_count": 5,
   "metadata": {},
   "outputs": [
    {
     "ename": "AssertionError",
     "evalue": "Undefined for iterables of different length.",
     "output_type": "error",
     "traceback": [
      "\u001b[0;31m---------------------------------------------------------------------------\u001b[0m",
      "\u001b[0;31mAssertionError\u001b[0m                            Traceback (most recent call last)",
      "\u001b[0;32m<ipython-input-5-40a6cb906c2e>\u001b[0m in \u001b[0;36m<module>\u001b[0;34m()\u001b[0m\n\u001b[0;32m----> 1\u001b[0;31m \u001b[0mhamming\u001b[0m\u001b[0;34m(\u001b[0m\u001b[0ma\u001b[0m\u001b[0;34m,\u001b[0m \u001b[0mc\u001b[0m\u001b[0;34m)\u001b[0m\u001b[0;34m\u001b[0m\u001b[0m\n\u001b[0m",
      "\u001b[0;32m<ipython-input-2-bde40aad7275>\u001b[0m in \u001b[0;36mhamming\u001b[0;34m(a, b)\u001b[0m\n\u001b[1;32m      1\u001b[0m \u001b[0;32mdef\u001b[0m \u001b[0mhamming\u001b[0m\u001b[0;34m(\u001b[0m\u001b[0ma\u001b[0m\u001b[0;34m,\u001b[0m \u001b[0mb\u001b[0m\u001b[0;34m)\u001b[0m\u001b[0;34m:\u001b[0m\u001b[0;34m\u001b[0m\u001b[0m\n\u001b[0;32m----> 2\u001b[0;31m     \u001b[0;32massert\u001b[0m \u001b[0mlen\u001b[0m\u001b[0;34m(\u001b[0m\u001b[0ma\u001b[0m\u001b[0;34m)\u001b[0m \u001b[0;34m==\u001b[0m \u001b[0mlen\u001b[0m\u001b[0;34m(\u001b[0m\u001b[0mb\u001b[0m\u001b[0;34m)\u001b[0m\u001b[0;34m,\u001b[0m \u001b[0;34m\"Undefined for iterables of different length.\"\u001b[0m\u001b[0;34m\u001b[0m\u001b[0m\n\u001b[0m\u001b[1;32m      3\u001b[0m     \u001b[0;32mreturn\u001b[0m \u001b[0msum\u001b[0m\u001b[0;34m(\u001b[0m\u001b[0;34m[\u001b[0m\u001b[0mi\u001b[0m \u001b[0;34m!=\u001b[0m \u001b[0mj\u001b[0m \u001b[0;32mfor\u001b[0m \u001b[0mi\u001b[0m\u001b[0;34m,\u001b[0m \u001b[0mj\u001b[0m \u001b[0;32min\u001b[0m \u001b[0mzip\u001b[0m\u001b[0;34m(\u001b[0m\u001b[0ma\u001b[0m\u001b[0;34m,\u001b[0m \u001b[0mb\u001b[0m\u001b[0;34m)\u001b[0m\u001b[0;34m]\u001b[0m\u001b[0;34m)\u001b[0m\u001b[0;34m\u001b[0m\u001b[0m\n",
      "\u001b[0;31mAssertionError\u001b[0m: Undefined for iterables of different length."
     ]
    }
   ],
   "source": [
    "hamming(a, c)"
   ]
  },
  {
   "cell_type": "markdown",
   "metadata": {},
   "source": [
    "Sequences need not be numeric:"
   ]
  },
  {
   "cell_type": "code",
   "execution_count": 6,
   "metadata": {},
   "outputs": [
    {
     "data": {
      "text/plain": [
       "2"
      ]
     },
     "execution_count": 6,
     "metadata": {},
     "output_type": "execute_result"
    }
   ],
   "source": [
    "x = 'Hamming'\n",
    "y = 'Hammond'\n",
    "hamming(x, y)"
   ]
  },
  {
   "cell_type": "markdown",
   "metadata": {},
   "source": [
    "The Hamming distance can also be useful for defining neighbourhood bounds for metaheurstic local search. Consider the following trivial 0-1 investment problem:\n",
    "\n",
    "$\n",
    "\\begin{align*}                                                                                 \n",
    "    min: &\\quad z = \\sum_{i=1}^{5} c_{i}y_{i} \\\\\n",
    "    st: &\\quad\\\\\n",
    "        &\\quad\\sum_{i=1}^{5} y_{i} > 2 \\\\\n",
    "        & \\quad y \\in\\{0,1\\}\n",
    "\\end{align*} \n",
    "$\n",
    "\n",
    "Where $c_{i}$ is the cost of making investment $y_{i}$.\n",
    "\n",
    "A metaheuristic (albeit poor) approach to solving the problem might be to begin the solution vector $y = [1, 1, 1, 1, 1]$, and to randomly explore solutions within Hamming distance $h$ of the incumbent solution until some stopping condition is met. For example, let $h = 2$ and the stopping condition be 2 iterations. In this case we randomly explore the neighbourhood bounded by 2 substitutions of our incumbent solution. Our local search might proceed as follows:\n",
    "\n",
    "<br />\n",
    "\n",
    "Iteration 0: $y = [1, 1, 1, 1, 1], z = 15$ \n",
    "\n",
    "Iteration 1: $y = [0, 1, 1, 1, 1], z = 14$ (new incumbent)\n",
    "\n",
    "Iteration 1: $y = [1, 1, 1, 0, 1], z = 11$ (new incumbent)\n",
    "\n",
    "Iteration 1: $y = [1, 0, 1, 1, 1], z = 13$\n",
    "\n",
    "Iteration 2: $y = [1, 1, 0, 0, 0], z = 3$ (infeasible)\n",
    "\n",
    "<br />\n",
    "\n",
    "*Solution: $y = [1, 1, 1, 0, 1], z = 11$*\n",
    "\n",
    "<br />\n",
    "\n",
    "If you can guess the cost vector $c$ you'd know this isn't the best heuristic!\n",
    "\n",
    "Now for the code:"
   ]
  },
  {
   "cell_type": "code",
   "execution_count": 7,
   "metadata": {},
   "outputs": [
    {
     "name": "stdout",
     "output_type": "stream",
     "text": [
      "Iteration 0: y = [1, 1, 1, 1, 1], z = 15\n",
      "Iteration 1: y = [1, 0, 1, 0, 1], z = 9, new incumbent\n",
      "Iteration 1: y = [1, 0, 1, 1, 1], z = 13\n",
      "Iteration 2: y = [1, 0, 0, 0, 1], z = 6, infeasible\n",
      "\n",
      "Solution: y = [1, 0, 1, 0, 1], z = 9\n"
     ]
    }
   ],
   "source": [
    "import numpy as np\n",
    "\n",
    "def local_search(c, y, h):\n",
    "    #randomly choose between 1 and d decision variables to flip\n",
    "    subs = np.random.choice(len(y), np.random.randint(1, h+1), False) \n",
    "    for i in subs:\n",
    "        y[i] =  int(not y[i]) #flippity flip\n",
    "    return y, np.dot(c, y)\n",
    "\n",
    "c = [1, 2, 3, 4, 5] #cost vector\n",
    "y = [1, 1, 1, 1, 1] #solution vector\n",
    "z = np.dot(c, y)    #objective function value\n",
    "\n",
    "i = 0 #iteration count\n",
    "print('Iteration %d: y = %s, z = %d' % (i, y, z))\n",
    "while i < 2: #stopping condition\n",
    "    i += 1\n",
    "    y_hat, z_hat = local_search(c, y[:], 2)\n",
    "    if sum(y_hat) < 3: #check feasibility\n",
    "        print('Iteration %d: y = %s, z = %d, infeasible' % (i, y_hat, z_hat))\n",
    "    elif z_hat < z: #we found a new incumbent\n",
    "        print('Iteration %d: y = %s, z = %d, new incumbent' % (i, y_hat, z_hat))\n",
    "        y = y_hat\n",
    "        z = z_hat\n",
    "        i = 0\n",
    "    else:\n",
    "        print('Iteration %d: y = %s, z = %d' % (i, y_hat, z_hat))\n",
    "\n",
    "print('\\nSolution: y = %s, z = %d' % (y, z))"
   ]
  },
  {
   "cell_type": "markdown",
   "metadata": {},
   "source": [
    "That's all folks!"
   ]
  }
 ],
 "metadata": {
  "kernelspec": {
   "display_name": "Python 3",
   "language": "python",
   "name": "python3"
  },
  "language_info": {
   "codemirror_mode": {
    "name": "ipython",
    "version": 3
   },
   "file_extension": ".py",
   "mimetype": "text/x-python",
   "name": "python",
   "nbconvert_exporter": "python",
   "pygments_lexer": "ipython3",
   "version": "3.6.5"
  },
  "nikola": {
   "category": "cs",
   "date": "2018-05-9 07:36:21 UTC+02:00",
   "description": "A quick look at the Hamming distance",
   "link": "",
   "slug": "hamming-distance",
   "tags": "mathematics, optimisation, computer science",
   "title": "Hamming distance",
   "type": "text"
  }
 },
 "nbformat": 4,
 "nbformat_minor": 2
}
